{
  "nbformat": 4,
  "nbformat_minor": 0,
  "metadata": {
    "colab": {
      "provenance": [],
      "include_colab_link": true
    },
    "kernelspec": {
      "name": "python3",
      "display_name": "Python 3"
    },
    "language_info": {
      "name": "python"
    }
  },
  "cells": [
    {
      "cell_type": "markdown",
      "metadata": {
        "id": "view-in-github",
        "colab_type": "text"
      },
      "source": [
        "<a href=\"https://colab.research.google.com/github/majkl84/Netology_new/blob/main/%D0%9A%D0%BE%D0%BF%D0%B8%D1%8F_%D0%B1%D0%BB%D0%BE%D0%BA%D0%BD%D0%BE%D1%82%D0%B0_%22OOP_2_ipynb%22.ipynb\" target=\"_parent\"><img src=\"https://colab.research.google.com/assets/colab-badge.svg\" alt=\"Open In Colab\"/></a>"
      ]
    },
    {
      "cell_type": "code",
      "execution_count": null,
      "metadata": {
        "id": "7WdZWW5bqO8A"
      },
      "outputs": [],
      "source": []
    },
    {
      "cell_type": "markdown",
      "source": [
        "Инкапсуляция\n",
        "\n",
        "Инкапсуляция заключается в том, что данные скрыты за пределами определения объекта. Это позволяет разработчикам создаватьудобный интерфейс взаимодействия и защитить данные от внешних источников.\n"
      ],
      "metadata": {
        "id": "E9B1DU_0qd_a"
      }
    },
    {
      "cell_type": "code",
      "source": [
        "class Character:\n",
        "    def __init__(self, name, power, status = '', energy  = 100, hands = 2):\n",
        "    \n",
        "        self.name = name\n",
        "        self.power = power\n",
        "        self.energy = energy\n",
        "        self.hands = hands\n",
        "        self.status = status\n",
        "        self.back_pack = []\n",
        "\n",
        "    def eat (self, food):\n",
        "        if self.energy < 100:\n",
        "            self.energy += food\n",
        "        else:\n",
        "            print('Не голоден')\n",
        "        \n",
        "    def do_exercise(self, hours):\n",
        "        if self.energy > 0:\n",
        "            self.energy -= hours * 2\n",
        "            self.power += hours * 2\n",
        "        else:\n",
        "            print('Очень устал')\n",
        "        \n",
        "    def beat_up(self, foe):\n",
        "        if not isinstance (foe, Character):#проверяем является ли объект экземпляром указанного класса\n",
        "            return\n",
        "        if foe.power < self.power:\n",
        "            foe.status = 'Побежден'\n",
        "            self.status = 'Победитель'\n",
        "        else:\n",
        "            print('Отступил')\n",
        "            \n",
        "    def change_alias(self, new_alias):\n",
        "        print(self)\n",
        "        self.alias = new_alias"
      ],
      "metadata": {
        "id": "RpniDZy5qjYW"
      },
      "execution_count": null,
      "outputs": []
    },
    {
      "cell_type": "code",
      "source": [
        "peter = Character('Peter Parker', 70)\n",
        "print(peter.back_pack)\n",
        "peter.do_exercise(5)"
      ],
      "metadata": {
        "id": "Jf7w_gOhqw-Q",
        "colab": {
          "base_uri": "https://localhost:8080/"
        },
        "outputId": "d8ee553c-9cce-4ab3-9da8-32e8510168f7"
      },
      "execution_count": null,
      "outputs": [
        {
          "output_type": "stream",
          "name": "stdout",
          "text": [
            "[]\n"
          ]
        }
      ]
    },
    {
      "cell_type": "markdown",
      "source": [
        "Реализуем защищенные атрибуты и метод"
      ],
      "metadata": {
        "id": "kUjcKhm3rGsJ"
      }
    },
    {
      "cell_type": "code",
      "source": [
        "class Character:\n",
        "    def __init__(self, name, power, status = '', energy  = 100, hands = 2):\n",
        "    \n",
        "        self.name = name\n",
        "        self.power = power\n",
        "        self.energy = energy\n",
        "        self.hands = hands\n",
        "        self.status = status\n",
        "        self._back_pack = []\n",
        "\n",
        "    def eat (self, food):\n",
        "        if self.energy < 100:\n",
        "            self.energy += food\n",
        "        else:\n",
        "            print('Не голоден')\n",
        "        \n",
        "    def do_exercise(self, hours):\n",
        "        if self.energy > 0:\n",
        "            self.energy -= hours * 2\n",
        "            self.power += hours * 2\n",
        "        else:\n",
        "            print('Очень устал')\n",
        "        \n",
        "    def beat_up(self, foe):\n",
        "        if not isinstance (foe, Character):#проверяем является ли объект экземпляром указанного класса\n",
        "            return\n",
        "        if foe.power < self.power:\n",
        "            foe.status = 'Побежден'\n",
        "            self.status = 'Победитель'\n",
        "        else:\n",
        "            print('Отступил')\n",
        "            \n",
        "    def _change_alias(self, new_alias):\n",
        "        print(self)\n",
        "        self.alias = new_alias"
      ],
      "metadata": {
        "id": "WoU_OSK9rEnu"
      },
      "execution_count": null,
      "outputs": []
    },
    {
      "cell_type": "code",
      "source": [
        "peter = Character('Peter Parker', 75)\n",
        "peter._change_alias('Spider Man')\n",
        "print(peter.alias)\n",
        "print(peter._back_pack)"
      ],
      "metadata": {
        "colab": {
          "base_uri": "https://localhost:8080/"
        },
        "id": "V1ySdcykrP7l",
        "outputId": "6cb2a021-9a64-4070-cf36-a02bc416d858"
      },
      "execution_count": null,
      "outputs": [
        {
          "output_type": "stream",
          "name": "stdout",
          "text": [
            "<__main__.Character object at 0x7f8c282f9760>\n",
            "Spider Man\n",
            "[]\n"
          ]
        }
      ]
    },
    {
      "cell_type": "markdown",
      "source": [
        "На самом с технической стороны для интерпретатора это не имеет никакого значения. Это просто соглашение для разработчиков, согласно которому, такие атрибуты и методв не стоит использовать за рамками класса и дочерних классов."
      ],
      "metadata": {
        "id": "0bZDNfHgrRJb"
      }
    },
    {
      "cell_type": "markdown",
      "source": [
        "Двойное подчеркивание в начале имени, дает большую защиту: атрибут становится недоступным по этому имени вне самого класса."
      ],
      "metadata": {
        "id": "XExd2rX5rTzp"
      }
    },
    {
      "cell_type": "code",
      "source": [
        "class Character:\n",
        "    def __init__(self, name, power, status = '', energy  = 100, hands = 2):\n",
        "    \n",
        "        self.name = name\n",
        "        self.power = power\n",
        "        self.energy = energy\n",
        "        self.hands = hands\n",
        "        self.status = status\n",
        "        self.__back_pack = []\n",
        "\n",
        "    def eat (self, food):\n",
        "        if self.energy < 100:\n",
        "            self.energy += food\n",
        "        else:\n",
        "            print('Не голоден')\n",
        "        \n",
        "    def do_exercise(self, hours):\n",
        "        if self.energy > 0:\n",
        "            self.energy -= hours * 2\n",
        "            self.power += hours * 2\n",
        "        else:\n",
        "            print('Очень устал')\n",
        "        \n",
        "    def beat_up(self, foe):\n",
        "        if not isinstance (foe, Character):#проверяем является ли объект экземпляром указанного класса\n",
        "            return\n",
        "        if foe.power < self.power:\n",
        "            foe.status = 'Побежден'\n",
        "            self.status = 'Победитель'\n",
        "        else:\n",
        "            print('Отступил')\n",
        "            \n",
        "    def __change_alias(self, new_alias):\n",
        "        print(self)\n",
        "        self.alias = new_alias"
      ],
      "metadata": {
        "id": "mbIdW_enrXdr"
      },
      "execution_count": null,
      "outputs": []
    },
    {
      "cell_type": "markdown",
      "source": [
        "Но это можно обойти при помощи прямого указания класса"
      ],
      "metadata": {
        "id": "PjkkGV4UrdeO"
      }
    },
    {
      "cell_type": "code",
      "source": [
        "peter = Character('Peter Parker', 75)\n",
        "peter._Character__change_alias('Spider Man')\n",
        "print(peter.alias)\n",
        "print(peter._Character__back_pack)"
      ],
      "metadata": {
        "colab": {
          "base_uri": "https://localhost:8080/"
        },
        "id": "FG0xDJngrg3n",
        "outputId": "743b76b0-7947-4c6e-8f13-47425ceb7df7"
      },
      "execution_count": null,
      "outputs": [
        {
          "output_type": "stream",
          "name": "stdout",
          "text": [
            "<__main__.Character object at 0x7f8c282ef5b0>\n",
            "Spider Man\n",
            "[]\n"
          ]
        }
      ]
    },
    {
      "cell_type": "markdown",
      "source": [
        "Таким образом, реализация инкапсуляции в Python носит формальный характер и работает на уровне соглашения."
      ],
      "metadata": {
        "id": "mA05ryGdrklT"
      }
    },
    {
      "cell_type": "markdown",
      "source": [
        "**Наследование**"
      ],
      "metadata": {
        "id": "zGUFPOthrm-h"
      }
    },
    {
      "cell_type": "code",
      "source": [
        "class Character:\n",
        "    name = ''\n",
        "    power = 20\n",
        "    energy = 100\n",
        "    hands = 2\n",
        "    \n",
        "class Spider:\n",
        "    power = 0\n",
        "    energy = 50\n",
        "    hands = 8\n",
        "    \n",
        "    def webshoot(self):\n",
        "        print('Пиу! Пиу!')\n",
        "    \n",
        "class SpiderMan(Character, Spider):\n",
        "    pass\n",
        "# class SpiderMan(Spider, Character):\n",
        "#     pass\n",
        "\n",
        "peter_parker = SpiderMan()\n",
        "\n",
        "print(peter_parker.name)\n",
        "print(peter_parker.power)\n",
        "print(peter_parker.energy)\n",
        "print(peter_parker.hands)\n",
        "peter_parker.webshoot()"
      ],
      "metadata": {
        "colab": {
          "base_uri": "https://localhost:8080/"
        },
        "id": "fOEQC4glrl3e",
        "outputId": "99b53d5b-5141-4466-b86c-f9d1fe24a0c9"
      },
      "execution_count": null,
      "outputs": [
        {
          "output_type": "stream",
          "name": "stdout",
          "text": [
            "\n",
            "0\n",
            "50\n",
            "8\n",
            "Пиу! Пиу!\n"
          ]
        }
      ]
    },
    {
      "cell_type": "markdown",
      "source": [
        "Линеаризация - способ представления дерева(графа, дерева) в линейную модель (плоскую структуру, список) для определения порядка наследования."
      ],
      "metadata": {
        "id": "LhShx-nZrvIa"
      }
    },
    {
      "cell_type": "code",
      "source": [
        "print(SpiderMan.mro())"
      ],
      "metadata": {
        "colab": {
          "base_uri": "https://localhost:8080/"
        },
        "id": "2vpixZtvrwR7",
        "outputId": "31512572-d67c-4d62-a357-ca73916ebe48"
      },
      "execution_count": null,
      "outputs": [
        {
          "output_type": "stream",
          "name": "stdout",
          "text": [
            "[<class '__main__.SpiderMan'>, <class '__main__.Spider'>, <class '__main__.Character'>, <class 'object'>]\n"
          ]
        }
      ]
    },
    {
      "cell_type": "code",
      "source": [
        "class Character:\n",
        "    def __init__(self, name, power, status = '', energy  = 100, hands = 2):\n",
        "        self.name = name\n",
        "        self.power = power\n",
        "        self.energy = energy\n",
        "        self.hands = hands\n",
        "    \n",
        "class Spider:\n",
        "    def __init__(self, power, energy  = 50, hands = 8):\n",
        "        self.power = power\n",
        "        self.energy = energy\n",
        "        self.hands = hands\n",
        "    \n",
        "    def webshoot(self):\n",
        "        print('Пиу! Пиу!')\n",
        "    \n",
        "class SpiderMan(Character, Spider):\n",
        "    def turn_spider_sense(self):\n",
        "        self.power -= 10\n",
        "        self.energy += 20\n",
        "# class SpiderMan(Spider, Character):\n",
        "#     pass\n",
        "\n",
        "peter_parker = SpiderMan('Peter Parker', 75)\n",
        "\n",
        "print(peter_parker.energy)\n",
        "print(peter_parker.power)\n",
        "print(peter_parker.hands)\n",
        "peter_parker.turn_spider_sense()\n",
        "print(peter_parker.energy)\n",
        "print(peter_parker.power)"
      ],
      "metadata": {
        "colab": {
          "base_uri": "https://localhost:8080/"
        },
        "id": "tAc06BRUrzpK",
        "outputId": "2c79cacd-31fc-400c-a7ae-466f4fe2cd70"
      },
      "execution_count": null,
      "outputs": [
        {
          "output_type": "stream",
          "name": "stdout",
          "text": [
            "100\n",
            "75\n",
            "2\n",
            "120\n",
            "65\n"
          ]
        }
      ]
    },
    {
      "cell_type": "markdown",
      "source": [
        "Полиморфизм - это возможность применения одноименных методов с одинаковыми или различными наборами параметров в одном классе или в группе классов, связанных отношением наследования. "
      ],
      "metadata": {
        "id": "43JVn07Fr3xZ"
      }
    },
    {
      "cell_type": "code",
      "source": [
        "# добавим в наши родительские классы новые методы\n",
        "class Character:\n",
        "    def __init__(self, name, power, status = '', energy  = 100, hands = 2):\n",
        "        self.name = name\n",
        "        self.power = power\n",
        "        self.energy = energy\n",
        "        self.hands = hands\n",
        "        \n",
        "    def move(self):\n",
        "        print('Сменить позицию!')\n",
        "    \n",
        "class Spider:\n",
        "    def __init__(self, power, energy  = 50, hands = 8):\n",
        "        self.power = power\n",
        "        self.energy = energy\n",
        "        self.hands = hands\n",
        "    \n",
        "    def webshoot(self):\n",
        "        print('Пиу! Пиу!')\n",
        "    \n",
        "    def move(self):\n",
        "        self.webshoot()\n",
        "        print('Сменить позицию!')\n",
        "    \n",
        "class SpiderMan(Character, Spider):\n",
        "    def turn_spider_sense(self):\n",
        "        self.power -= 10\n",
        "        self.energy += 20\n",
        "# class SpiderMan(Spider, Character):\n",
        "#     pass\n",
        "\n",
        "peter_parker = SpiderMan('Peter Parker', 75)\n",
        "\n",
        "peter_parker.move()\n"
      ],
      "metadata": {
        "colab": {
          "base_uri": "https://localhost:8080/"
        },
        "id": "ILcbmZePr44E",
        "outputId": "7cf24e28-73eb-484b-9a7e-c83a5f3ed5dc"
      },
      "execution_count": null,
      "outputs": [
        {
          "output_type": "stream",
          "name": "stdout",
          "text": [
            "Сменить позицию!\n"
          ]
        }
      ]
    },
    {
      "cell_type": "code",
      "source": [
        "print(n := input())"
      ],
      "metadata": {
        "id": "Hj-IJ4Gwr-p4"
      },
      "execution_count": null,
      "outputs": []
    },
    {
      "cell_type": "code",
      "source": [
        "class Character:\n",
        "    def __init__(self, name, power, status = '', energy  = 100, hands = 2):\n",
        "        self.name = name\n",
        "        self.power = power\n",
        "        self.energy = energy\n",
        "        self.hands = hands\n",
        "        \n",
        "    def move(self):\n",
        "        print('Сменить позицию на 2 поля')\n",
        "    \n",
        "class Spider:\n",
        "    def __init__(self, power, energy  = 50, hands = 8):\n",
        "        self.power = power\n",
        "        self.energy = energy\n",
        "        self.hands = hands\n",
        "    \n",
        "    def webshoot(self):\n",
        "        print('Пиу! Пиу!')\n",
        "    \n",
        "    def move(self):\n",
        "        self.webshoot()\n",
        "        print('Сменить позицию на 1 поле')\n",
        "    \n",
        "class SpiderMan(Character, Spider):\n",
        "    def turn_spider_sense(self):\n",
        "        self.power -= 10\n",
        "        self.energy += 20\n",
        "        \n",
        "    def move(self):\n",
        "        self.webshoot()\n",
        "        print('Сменить позицию на 3 поля')\n",
        "# class SpiderMan(Spider, Character):\n",
        "#     pass\n",
        "\n",
        "peter_parker = SpiderMan('Peter Parker', 75)\n",
        "\n",
        "peter_parker.move()\n"
      ],
      "metadata": {
        "colab": {
          "base_uri": "https://localhost:8080/"
        },
        "id": "AINAFAh0r_ZU",
        "outputId": "48771d03-0afa-43f0-ed8b-3f0643653620"
      },
      "execution_count": null,
      "outputs": [
        {
          "output_type": "stream",
          "name": "stdout",
          "text": [
            "Пиу! Пиу!\n",
            "Сменить позицию на 3 поля\n"
          ]
        }
      ]
    },
    {
      "cell_type": "markdown",
      "source": [
        "Создадим инвентарь для нашего персонажа"
      ],
      "metadata": {
        "id": "y98GmPNasEJh"
      }
    },
    {
      "cell_type": "code",
      "source": [
        "class Character:\n",
        "    def __init__(self, name, power, status = '', energy  = 100, hands = 2):\n",
        "        self.name = name\n",
        "        self.power = power\n",
        "        self.energy = energy\n",
        "        self.hands = hands\n",
        "        \n",
        "    def move(self):\n",
        "        print('Сменить позицию на 2 поля')\n",
        "    \n",
        "class Spider:\n",
        "    def __init__(self, power, energy  = 50, hands = 8):\n",
        "        self.power = power\n",
        "        self.energy = energy\n",
        "        self.hands = hands\n",
        "    \n",
        "    def webshoot(self):\n",
        "        print('Пиу! Пиу!')\n",
        "    \n",
        "    def move(self):\n",
        "        self.webshoot()\n",
        "        print('Сменить позицию на 1 поле')\n",
        "    \n",
        "class SpiderMan(Character, Spider):\n",
        "# такой вариант допустимый, но нет смысла дублировать инициализацию\n",
        "# которая полностью совпадает с родителем!\n",
        "    def __init__(self, name, power, status = '', energy  = 100, hands = 2):\n",
        "        self.name = name\n",
        "        self.power = power\n",
        "        self.energy = energy\n",
        "        self.hands = hands\n",
        "        self.backpack = []\n",
        "        \n",
        "    def turn_spider_sense(self):\n",
        "        self.power -= 10\n",
        "        self.energy += 20\n",
        "        \n",
        "    def move(self):\n",
        "        self.webshoot()\n",
        "        print('Сменить позицию на 3 поля')\n",
        "# class SpiderMan(Spider, Character):\n",
        "#     pass\n",
        "\n",
        "peter_parker = SpiderMan('Peter Parker', 75)\n",
        "\n",
        "print(peter_parker.backpack)\n"
      ],
      "metadata": {
        "colab": {
          "base_uri": "https://localhost:8080/"
        },
        "id": "Uaut1-gGsGUv",
        "outputId": "17e97783-327d-4415-bec3-88045bc4c7a4"
      },
      "execution_count": null,
      "outputs": [
        {
          "output_type": "stream",
          "name": "stdout",
          "text": [
            "None\n"
          ]
        }
      ]
    },
    {
      "cell_type": "markdown",
      "source": [
        "Функция super() позволяет получить доступ к унаследованным методам, которые были перезаписаны в дочернем классе."
      ],
      "metadata": {
        "id": "2SkQNqfXsLFU"
      }
    },
    {
      "cell_type": "code",
      "source": [
        "class Character:\n",
        "    def __init__(self, name, power, status = '', energy  = 100, hands = 2):\n",
        "        self.name = name\n",
        "        self.power = power\n",
        "        self.energy = energy\n",
        "        self.hands = hands\n",
        "        \n",
        "    def move(self):\n",
        "        print('Сменить позицию на 2 поля')\n",
        "    \n",
        "class Spider:\n",
        "    def __init__(self, power, energy  = 50, hands = 8):\n",
        "        self.power = power\n",
        "        self.energy = energy\n",
        "        self.hands = hands\n",
        "    \n",
        "    def webshoot(self):\n",
        "        print('Пиу! Пиу!')\n",
        "    \n",
        "    def move(self):\n",
        "        self.webshoot()\n",
        "        print('Сменить позицию на 1 поле')\n",
        "    \n",
        "class SpiderMan(Character, Spider):\n",
        "# Мы полностью наследуем от родителя инициализацию и добавляем новый атрибут для экземпляра\n",
        "\n",
        "    def __init__(self, name, power):\n",
        "        super().__init__(name, power)\n",
        "        self.backpack = []\n",
        "        \n",
        "    def turn_spider_sense(self):\n",
        "        self.power -= 10\n",
        "        self.energy += 20\n",
        "        \n",
        "    def move(self):\n",
        "        self.webshoot()\n",
        "        print('Сменить позицию на 3 поля')\n",
        "# class SpiderMan(Spider, Character):\n",
        "#     pass\n",
        "\n",
        "peter_parker = SpiderMan('Peter Parker', 75)\n",
        "\n",
        "print(peter_parker.backpack)\n",
        "print(peter_parker.energy)\n",
        "print(peter_parker.power)\n",
        "print(peter_parker.hands)"
      ],
      "metadata": {
        "colab": {
          "base_uri": "https://localhost:8080/"
        },
        "id": "q3U55KAFsMIs",
        "outputId": "ff3a589b-a474-4407-9345-f38ce8c66031"
      },
      "execution_count": null,
      "outputs": [
        {
          "output_type": "stream",
          "name": "stdout",
          "text": [
            "[]\n",
            "100\n",
            "75\n",
            "2\n"
          ]
        }
      ]
    },
    {
      "cell_type": "code",
      "source": [
        "class Character:\n",
        "    def __init__(self, name, power, status = '', energy  = 100, hands = 2):\n",
        "        self.name = name\n",
        "        self.power = power\n",
        "        self.energy = energy\n",
        "        self.hands = hands\n",
        "        \n",
        "    def move(self):\n",
        "        print('Сменить позицию на 2 поля')\n",
        "    \n",
        "class Spider:\n",
        "    def __init__(self, power, energy  = 50, hands = 8):\n",
        "        self.power = power\n",
        "        self.energy = energy\n",
        "        self.hands = hands\n",
        "    \n",
        "    def webshoot(self):\n",
        "        print('Пиу! Пиу!')\n",
        "    \n",
        "    def move(self):\n",
        "        self.webshoot()\n",
        "        print('Сменить позицию на 1 поле')\n",
        "    \n",
        "class SpiderMan(Character, Spider):\n",
        "# Мы полностью наследуем от родителя инициализацию и добавляем новый атрибут для экземпляра\n",
        "\n",
        "    def __init__(self, name, power):\n",
        "        super().__init__(name, power)\n",
        "        self.backpack = []\n",
        "        \n",
        "    def turn_spider_sense(self):\n",
        "        self.power -= 10\n",
        "        self.energy += 20\n",
        "    \n",
        "    def webshoot(self):\n",
        "        if 'паутина' in self.backpack:\n",
        "            self.webshoot()\n",
        "        else:\n",
        "            print('Паутины в рюкзаке нет!')\n",
        "    \n",
        "    def move(self):\n",
        "        self.webshoot()\n",
        "        print('Сменить позицию на 3 поля')\n",
        "# class SpiderMan(Spider, Character):\n",
        "#     pass\n",
        "\n",
        "peter_parker = SpiderMan('Peter Parker', 75)\n",
        "\n",
        "peter_parker.webshoot()"
      ],
      "metadata": {
        "colab": {
          "base_uri": "https://localhost:8080/"
        },
        "id": "Wi845VQMsP1E",
        "outputId": "1ba679e0-7af8-4af5-b666-531d66ac96a0"
      },
      "execution_count": null,
      "outputs": [
        {
          "output_type": "stream",
          "name": "stdout",
          "text": [
            "Паутины в рюкзаке нет!\n"
          ]
        }
      ]
    },
    {
      "cell_type": "code",
      "source": [
        "peter_parker.backpack.append('паутина')\n",
        "peter_parker.webshoot()"
      ],
      "metadata": {
        "colab": {
          "base_uri": "https://localhost:8080/",
          "height": 364
        },
        "id": "qu8_j9KVsUdh",
        "outputId": "0aed9a22-4455-4c74-a0f8-c5b0574731d5"
      },
      "execution_count": null,
      "outputs": [
        {
          "output_type": "error",
          "ename": "RecursionError",
          "evalue": "ignored",
          "traceback": [
            "\u001b[0;31m---------------------------------------------------------------------------\u001b[0m",
            "\u001b[0;31mRecursionError\u001b[0m                            Traceback (most recent call last)",
            "\u001b[0;32m<ipython-input-31-9f9db0f80af0>\u001b[0m in \u001b[0;36m<module>\u001b[0;34m\u001b[0m\n\u001b[1;32m      1\u001b[0m \u001b[0mpeter_parker\u001b[0m\u001b[0;34m.\u001b[0m\u001b[0mbackpack\u001b[0m\u001b[0;34m.\u001b[0m\u001b[0mappend\u001b[0m\u001b[0;34m(\u001b[0m\u001b[0;34m'паутина'\u001b[0m\u001b[0;34m)\u001b[0m\u001b[0;34m\u001b[0m\u001b[0;34m\u001b[0m\u001b[0m\n\u001b[0;32m----> 2\u001b[0;31m \u001b[0mpeter_parker\u001b[0m\u001b[0;34m.\u001b[0m\u001b[0mwebshoot\u001b[0m\u001b[0;34m(\u001b[0m\u001b[0;34m)\u001b[0m\u001b[0;34m\u001b[0m\u001b[0;34m\u001b[0m\u001b[0m\n\u001b[0m",
            "\u001b[0;32m<ipython-input-30-0cfcb9769995>\u001b[0m in \u001b[0;36mwebshoot\u001b[0;34m(self)\u001b[0m\n\u001b[1;32m     35\u001b[0m     \u001b[0;32mdef\u001b[0m \u001b[0mwebshoot\u001b[0m\u001b[0;34m(\u001b[0m\u001b[0mself\u001b[0m\u001b[0;34m)\u001b[0m\u001b[0;34m:\u001b[0m\u001b[0;34m\u001b[0m\u001b[0;34m\u001b[0m\u001b[0m\n\u001b[1;32m     36\u001b[0m         \u001b[0;32mif\u001b[0m \u001b[0;34m'паутина'\u001b[0m \u001b[0;32min\u001b[0m \u001b[0mself\u001b[0m\u001b[0;34m.\u001b[0m\u001b[0mbackpack\u001b[0m\u001b[0;34m:\u001b[0m\u001b[0;34m\u001b[0m\u001b[0;34m\u001b[0m\u001b[0m\n\u001b[0;32m---> 37\u001b[0;31m             \u001b[0mself\u001b[0m\u001b[0;34m.\u001b[0m\u001b[0mwebshoot\u001b[0m\u001b[0;34m(\u001b[0m\u001b[0;34m)\u001b[0m\u001b[0;34m\u001b[0m\u001b[0;34m\u001b[0m\u001b[0m\n\u001b[0m\u001b[1;32m     38\u001b[0m         \u001b[0;32melse\u001b[0m\u001b[0;34m:\u001b[0m\u001b[0;34m\u001b[0m\u001b[0;34m\u001b[0m\u001b[0m\n\u001b[1;32m     39\u001b[0m             \u001b[0mprint\u001b[0m\u001b[0;34m(\u001b[0m\u001b[0;34m'Паутины в рюкзаке нет!'\u001b[0m\u001b[0;34m)\u001b[0m\u001b[0;34m\u001b[0m\u001b[0;34m\u001b[0m\u001b[0m\n",
            "... last 1 frames repeated, from the frame below ...\n",
            "\u001b[0;32m<ipython-input-30-0cfcb9769995>\u001b[0m in \u001b[0;36mwebshoot\u001b[0;34m(self)\u001b[0m\n\u001b[1;32m     35\u001b[0m     \u001b[0;32mdef\u001b[0m \u001b[0mwebshoot\u001b[0m\u001b[0;34m(\u001b[0m\u001b[0mself\u001b[0m\u001b[0;34m)\u001b[0m\u001b[0;34m:\u001b[0m\u001b[0;34m\u001b[0m\u001b[0;34m\u001b[0m\u001b[0m\n\u001b[1;32m     36\u001b[0m         \u001b[0;32mif\u001b[0m \u001b[0;34m'паутина'\u001b[0m \u001b[0;32min\u001b[0m \u001b[0mself\u001b[0m\u001b[0;34m.\u001b[0m\u001b[0mbackpack\u001b[0m\u001b[0;34m:\u001b[0m\u001b[0;34m\u001b[0m\u001b[0;34m\u001b[0m\u001b[0m\n\u001b[0;32m---> 37\u001b[0;31m             \u001b[0mself\u001b[0m\u001b[0;34m.\u001b[0m\u001b[0mwebshoot\u001b[0m\u001b[0;34m(\u001b[0m\u001b[0;34m)\u001b[0m\u001b[0;34m\u001b[0m\u001b[0;34m\u001b[0m\u001b[0m\n\u001b[0m\u001b[1;32m     38\u001b[0m         \u001b[0;32melse\u001b[0m\u001b[0;34m:\u001b[0m\u001b[0;34m\u001b[0m\u001b[0;34m\u001b[0m\u001b[0m\n\u001b[1;32m     39\u001b[0m             \u001b[0mprint\u001b[0m\u001b[0;34m(\u001b[0m\u001b[0;34m'Паутины в рюкзаке нет!'\u001b[0m\u001b[0;34m)\u001b[0m\u001b[0;34m\u001b[0m\u001b[0;34m\u001b[0m\u001b[0m\n",
            "\u001b[0;31mRecursionError\u001b[0m: maximum recursion depth exceeded in comparison"
          ]
        }
      ]
    },
    {
      "cell_type": "code",
      "source": [
        "class Character:\n",
        "    def __init__(self, name, power, status = '', energy  = 100, hands = 2):\n",
        "        self.name = name\n",
        "        self.power = power\n",
        "        self.energy = energy\n",
        "        self.hands = hands\n",
        "        \n",
        "    def move(self):\n",
        "        print('Сменить позицию на 2 поля')\n",
        "    \n",
        "class Spider:\n",
        "    def __init__(self, power, energy  = 50, hands = 8):\n",
        "        self.power = power\n",
        "        self.energy = energy\n",
        "        self.hands = hands\n",
        "    \n",
        "    def webshoot(self):\n",
        "        print('Пиу! Пиу!')\n",
        "    \n",
        "    def move(self):\n",
        "        self.webshoot()\n",
        "        print('Сменить позицию на 1 поле')\n",
        "    \n",
        "class SpiderMan(Character, Spider):\n",
        "# Мы полностью наследуем от родителя инициализацию и добавляем новый атрибут для экземпляра\n",
        "\n",
        "    def __init__(self, name, power):\n",
        "        super().__init__(name, power)\n",
        "        self.backpack = []\n",
        "        \n",
        "    def turn_spider_sense(self):\n",
        "        self.power -= 10\n",
        "        self.energy += 20\n",
        "    \n",
        "    def webshoot(self):\n",
        "        if 'паутина' in self.backpack:\n",
        "            super().webshoot()\n",
        "        else:\n",
        "            print('Паутины в рюкзаке нет!')\n",
        "    \n",
        "    def move(self):\n",
        "        self.webshoot()\n",
        "        print('Сменить позицию на 3 поля')\n",
        "# class SpiderMan(Spider, Character):\n",
        "#     pass\n",
        "\n",
        "peter_parker = SpiderMan('Peter Parker', 75)\n",
        "\n",
        "peter_parker.webshoot()"
      ],
      "metadata": {
        "colab": {
          "base_uri": "https://localhost:8080/"
        },
        "id": "4o0fH_L5sVPW",
        "outputId": "7fc93eba-0c2e-4b0b-aeed-3451dcbac464"
      },
      "execution_count": null,
      "outputs": [
        {
          "output_type": "stream",
          "name": "stdout",
          "text": [
            "Паутины в рюкзаке нет!\n"
          ]
        }
      ]
    },
    {
      "cell_type": "code",
      "source": [
        "peter_parker.backpack.append('паутина')\n",
        "peter_parker.webshoot()"
      ],
      "metadata": {
        "colab": {
          "base_uri": "https://localhost:8080/"
        },
        "id": "PMUmMW6WsbJY",
        "outputId": "9fcf8cad-f290-4d8d-cb14-199c8259dc3a"
      },
      "execution_count": null,
      "outputs": [
        {
          "output_type": "stream",
          "name": "stdout",
          "text": [
            "Пиу! Пиу!\n"
          ]
        }
      ]
    },
    {
      "cell_type": "markdown",
      "source": [
        "Можем ли наследовать не от родителя по MRO, а от другого родителя?"
      ],
      "metadata": {
        "id": "BnHb0gAKseB0"
      }
    },
    {
      "cell_type": "code",
      "source": [
        "#добавим родительским классам атаку и проверим, как будет наследоваться\n",
        "class Character:\n",
        "    def __init__(self, name, power, status = '', energy  = 100, hands = 2):\n",
        "        self.name = name\n",
        "        self.power = power\n",
        "        self.energy = energy\n",
        "        self.hands = hands\n",
        "        \n",
        "    def move(self):\n",
        "        print('Сменить позицию на 2 поля')\n",
        "        \n",
        "    def attack(self, foe):\n",
        "        foe.health -= 10\n",
        "    \n",
        "class Spider:\n",
        "    def __init__(self, power, energy  = 50, hands = 8):\n",
        "        self.power = power\n",
        "        self.energy = energy\n",
        "        self.hands = hands\n",
        "    \n",
        "    def webshoot(self):\n",
        "        print('Пиу! Пиу!')\n",
        "    \n",
        "    def move(self):\n",
        "        self.webshoot()\n",
        "        print('Сменить позицию на 1 поле')\n",
        "    \n",
        "    def attack(self, foe):\n",
        "        foe.status = 'Оглушен!'\n",
        "    \n",
        "class SpiderMan(Character, Spider):\n",
        "# Мы полностью наследуем от родителя инициализацию и добавляем новый атрибут для экземпляра\n",
        "\n",
        "    def __init__(self, name, power):\n",
        "        super().__init__(name, power)\n",
        "        self.backpack = []\n",
        "        \n",
        "    def turn_spider_sense(self):\n",
        "        self.power -= 10\n",
        "        self.energy += 20\n",
        "    \n",
        "    def webshoot(self):\n",
        "        if 'паутина' in self.backpack:\n",
        "            super().webshoot()\n",
        "        else:\n",
        "            print('Паутины в рюкзаке нет!')\n",
        "    \n",
        "    def move(self):\n",
        "        self.webshoot()\n",
        "        print('Сменить позицию на 3 поля')\n",
        "# class SpiderMan(Spider, Character):\n",
        "#     pass\n",
        "\n",
        "peter_parker = SpiderMan('Peter Parker', 75)\n",
        "enemy = Character('Some Enemy', 10)\n",
        "enemy.health = 100\n",
        "\n",
        "peter_parker.attack(enemy)\n",
        "\n",
        "print(enemy.health)\n",
        "print(enemy.status)"
      ],
      "metadata": {
        "colab": {
          "base_uri": "https://localhost:8080/",
          "height": 219
        },
        "id": "_SRqsSMbsgz1",
        "outputId": "49532bdb-4fb8-42b8-9d79-6442f111fcd7"
      },
      "execution_count": null,
      "outputs": [
        {
          "output_type": "stream",
          "name": "stdout",
          "text": [
            "90\n"
          ]
        },
        {
          "output_type": "error",
          "ename": "AttributeError",
          "evalue": "ignored",
          "traceback": [
            "\u001b[0;31m---------------------------------------------------------------------------\u001b[0m",
            "\u001b[0;31mAttributeError\u001b[0m                            Traceback (most recent call last)",
            "\u001b[0;32m<ipython-input-34-cf6eb6783f26>\u001b[0m in \u001b[0;36m<module>\u001b[0;34m\u001b[0m\n\u001b[1;32m     59\u001b[0m \u001b[0;34m\u001b[0m\u001b[0m\n\u001b[1;32m     60\u001b[0m \u001b[0mprint\u001b[0m\u001b[0;34m(\u001b[0m\u001b[0menemy\u001b[0m\u001b[0;34m.\u001b[0m\u001b[0mhealth\u001b[0m\u001b[0;34m)\u001b[0m\u001b[0;34m\u001b[0m\u001b[0;34m\u001b[0m\u001b[0m\n\u001b[0;32m---> 61\u001b[0;31m \u001b[0mprint\u001b[0m\u001b[0;34m(\u001b[0m\u001b[0menemy\u001b[0m\u001b[0;34m.\u001b[0m\u001b[0mstatus\u001b[0m\u001b[0;34m)\u001b[0m\u001b[0;34m\u001b[0m\u001b[0;34m\u001b[0m\u001b[0m\n\u001b[0m",
            "\u001b[0;31mAttributeError\u001b[0m: 'Character' object has no attribute 'status'"
          ]
        }
      ]
    },
    {
      "cell_type": "code",
      "source": [
        "class Character:\n",
        "    def __init__(self, name, power, status = '', energy  = 100, hands = 2):\n",
        "        self.name = name\n",
        "        self.power = power\n",
        "        self.energy = energy\n",
        "        self.hands = hands\n",
        "        \n",
        "    def move(self):\n",
        "        print('Сменить позицию на 2 поля')\n",
        "        \n",
        "    def attack(self, foe):\n",
        "        foe.health -= 10\n",
        "    \n",
        "class Spider:\n",
        "    def __init__(self, power, energy  = 50, hands = 8):\n",
        "        self.power = power\n",
        "        self.energy = energy\n",
        "        self.hands = hands\n",
        "    \n",
        "    def webshoot(self):\n",
        "        print('Пиу! Пиу!')\n",
        "    \n",
        "    def move(self):\n",
        "        self.webshoot()\n",
        "        print('Сменить позицию на 1 поле')\n",
        "    \n",
        "    def attack(self, foe):\n",
        "        foe.status = 'Оглушен!'\n",
        "    \n",
        "class SpiderMan(Character, Spider):\n",
        "# Мы полностью наследуем от родителя инициализацию и добавляем новый атрибут для экземпляра\n",
        "\n",
        "    def __init__(self, name, power):\n",
        "        super().__init__(name, power)\n",
        "        self.backpack = []\n",
        "        \n",
        "    def turn_spider_sense(self):\n",
        "        self.power -= 10\n",
        "        self.energy += 20\n",
        "    \n",
        "    def webshoot(self):\n",
        "        if 'паутина' in self.backpack:\n",
        "            super().webshoot()\n",
        "        else:\n",
        "            print('Паутины в рюкзаке нет!')\n",
        "    \n",
        "    def move(self):\n",
        "        self.webshoot()\n",
        "        print('Сменить позицию на 3 поля')\n",
        "# class SpiderMan(Spider, Character):\n",
        "#     pass\n",
        "    # делаем классу свою атаку\n",
        "    def attack(self, foe):\n",
        "        super().attack(foe)\n",
        "        Spider.attack(self, foe)\n",
        "        \n",
        "peter_parker = SpiderMan('Peter Parker', 75)\n",
        "enemy = Character('Some Enemy', 10)\n",
        "enemy.health = 100\n",
        "\n",
        "peter_parker.attack(enemy)\n",
        "\n",
        "print(enemy.health)\n",
        "print(enemy.status)"
      ],
      "metadata": {
        "colab": {
          "base_uri": "https://localhost:8080/"
        },
        "id": "-ry0b4dlskFK",
        "outputId": "5936ae01-4648-4b03-8757-cac61d9caa05"
      },
      "execution_count": null,
      "outputs": [
        {
          "output_type": "stream",
          "name": "stdout",
          "text": [
            "90\n",
            "Оглушен!\n"
          ]
        }
      ]
    },
    {
      "cell_type": "markdown",
      "source": [
        "Магические методы - это общий термин, относящийся к \"специальным\" методам классов. для которых нет единого определения, поскольку их применение разнообразно. Магические методы в языке программирования Python нужны, чтобы реализовывать свойства объектов при их взаимодействии."
      ],
      "metadata": {
        "id": "2rujgRXlsk32"
      }
    },
    {
      "cell_type": "markdown",
      "source": [
        "Магические методы можно перегрузить."
      ],
      "metadata": {
        "id": "LKqfFbdfsnuj"
      }
    },
    {
      "cell_type": "code",
      "source": [
        "class Character:\n",
        "    def __init__(self, name, power, status = '', energy  = 100, hands = 2):\n",
        "        self.name = name\n",
        "        self.power = power\n",
        "        self.energy = energy\n",
        "        self.hands = hands\n",
        "        \n",
        "    def move(self):\n",
        "        print('Сменить позицию на 2 поля')\n",
        "        \n",
        "    def attack(self, foe):\n",
        "        foe.health -= 10\n",
        "    \n",
        "class Spider:\n",
        "    def __init__(self, power, energy  = 50, hands = 8):\n",
        "        self.power = power\n",
        "        self.energy = energy\n",
        "        self.hands = hands\n",
        "    \n",
        "    def webshoot(self):\n",
        "        print('Пиу! Пиу!')\n",
        "    \n",
        "    def move(self):\n",
        "        self.webshoot()\n",
        "        print('Сменить позицию на 1 поле')\n",
        "    \n",
        "    def attack(self, foe):\n",
        "        foe.status = 'Оглушен!'\n",
        "    \n",
        "class SpiderMan(Character, Spider):\n",
        "# Мы полностью наследуем от родителя инициализацию и добавляем новый атрибут для экземпляра\n",
        "\n",
        "    def __init__(self, name, power):\n",
        "        super().__init__(name, power)\n",
        "        self.backpack = []\n",
        "        \n",
        "    def turn_spider_sense(self):\n",
        "        self.power -= 10\n",
        "        self.energy += 20\n",
        "    \n",
        "    def webshoot(self):\n",
        "        if 'паутина' in self.backpack:\n",
        "            super().webshoot()\n",
        "        else:\n",
        "            print('Паутины в рюкзаке нет!')\n",
        "    \n",
        "    def move(self):\n",
        "        self.webshoot()\n",
        "        print('Сменить позицию на 3 поля')\n",
        "# class SpiderMan(Spider, Character):\n",
        "#     pass\n",
        "    \n",
        "    def attack(self, foe):\n",
        "        super().attack(foe)\n",
        "        Spider.attack(self, foe)\n",
        "        \n",
        "    def __lt__(self, other):\n",
        "        if not isinstance(other, Character):\n",
        "            print('Not a Character')\n",
        "            return\n",
        "        return self.power < other.power\n",
        "     \n",
        "    def __str__(self):\n",
        "        res = f'Сила персонажа = {self.power}'\n",
        "        return res\n",
        "        \n",
        "peter_parker = SpiderMan('Peter Parker', 75)\n",
        "# miles_morales = SpiderMan('Miles Morales', 85)\n",
        "\n",
        "# print(peter_parker < miles_morales)\n",
        "# print(peter_parker > miles_morales)\n",
        "# print(peter_parker.__lt__(miles_morales))\n",
        "\n",
        "print(peter_parker)\n",
        "# print(miles_morales)\n",
        "\n",
        "# print(peter_parker.__str__)"
      ],
      "metadata": {
        "colab": {
          "base_uri": "https://localhost:8080/"
        },
        "id": "Xa1-J4i5sp9h",
        "outputId": "ba4bdd53-f15e-4b6d-a1be-df33723ca3da"
      },
      "execution_count": null,
      "outputs": [
        {
          "output_type": "stream",
          "name": "stdout",
          "text": [
            "Сила персонажа = 75\n"
          ]
        }
      ]
    },
    {
      "cell_type": "code",
      "source": [
        "print(5+8)"
      ],
      "metadata": {
        "id": "mIxRGIf9WxJg",
        "outputId": "e70388d5-aeb9-475b-cba5-22ab19dd3bb2",
        "colab": {
          "base_uri": "https://localhost:8080/"
        }
      },
      "execution_count": null,
      "outputs": [
        {
          "output_type": "stream",
          "name": "stdout",
          "text": [
            "13\n"
          ]
        }
      ]
    }
  ]
}